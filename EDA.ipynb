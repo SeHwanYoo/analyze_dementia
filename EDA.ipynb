{
 "cells": [
  {
   "cell_type": "code",
   "execution_count": 22,
   "metadata": {},
   "outputs": [],
   "source": [
    "data_dict = {'email' : '이메일',\n",
    "'date' : '요약 날짜',\n",
    "'check' : '착용 여부 체크',\n",
    "'nonwear' : '미착용 시간 체크',\n",
    "'activity_average_met' : '하루간 평균 MET',\n",
    "'activity_cal_active' : '하루간 활동 칼로리',\n",
    "'activity_cal_total' : '하루간 총 사용 칼로리',\n",
    "'activity_class_5min' : '하루간 5분당 활동 로그',\n",
    "'activity_daily_movement' : '매일 움직인 거리',\n",
    "'activity_day_end' : '활동 종료 시간',\n",
    "'activity_day_start' : '활동 시작 시간',\n",
    "'activity_high' : '고강도 활동 시간',\n",
    "'activity_inactive' : '비활동 시간',\n",
    "'activity_inactivity_alerts' : '비활동 알람 횟수',\n",
    "'active_low' : '저강도 활동 시간',\n",
    "'activity_medium' : '중강도 활동 시간',\n",
    "'activity_met_1min' : '하루간 1분 당 MET 로그',\n",
    "'activity_met_min_high' : '하루간 고강도 활동 MET',\n",
    "'activity_met_min_inactive' : '하루간 비활동 MET',\n",
    "'activity_met_min_low' : '하루간 저강도 활동 MET',\n",
    "'activity_met_min_medium' : '하루간 중강도 활동 MET',\n",
    "'activity_non_wear' : '미착용 시간',\n",
    "'activity_rest' : '휴식 시간',\n",
    "'activity_score' : '활동 점수',\n",
    "'activity_score_meet_daily_targets' : '활동 목표달성 점수',\n",
    "'activity_score_move_every_hour' : '매 시간 당 활동유지 점수',\n",
    "'activity_score_recovery_time' : '회복시간 점수',\n",
    "'activity_score_stay_active' : '활동 유지 점수',\n",
    "'activity_score_training_frequency' : '운동 빈도 점수',\n",
    "'activity_score_training_volume' : '운동 빈도 점수',\n",
    "'activity_steps' : '매일 걸음 수',\n",
    "'activity_total' : '활동 총 시간(분)', \n",
    "'sleep_awake' : '깬 시간', \n",
    "'sleep_bedtime_end' : '잠 종료시간', \n",
    "'sleep_bedtime_start' : '잠 시작시간', \n",
    "'sleep_breatj_average' : '분단 평균 호흡 수', \n",
    "'sleep_deep' : '깊은 수면 시간', \n",
    "'sleep_duration' : '잠 시간', \n",
    "'sleep_efficiency' : '수면 효율', \n",
    "'sleep_hr_5min' : '5분 당 심박동 로그', \n",
    "'sleep_hr_average' : '분당 평균 심박동 수', \n",
    "'sleep_hr_lowest' : '분당 낮은 심박동 수', \n",
    "'sleep_hypnogram_5min' : '수면 상태 로그', \n",
    "'sleep_is_longest' : '본 수면 여부', \n",
    "'sleep_light' : '가벼운 수면 시간', \n",
    "'sleep_midpoint_at_delta' : '수면 중간점 시간 델타', \n",
    "'sleep_midpoint_time' : '수면 중간점 시간', \n",
    "'sleep_onset_latency' : '수면 잠복 시간', \n",
    "'sleep_period_id' : '수면 식별 아이디', \n",
    "'sleep_rem' : '램수면 시간', \n",
    "'sleep_restless' : '뒤척임 비율', \n",
    "'sleep_rmssd' : '평균 심박동변동', \n",
    "'sleep_rmssd_5min' : '5분 당 심박동변동 로그', \n",
    "'sleep_score' : '수면 종합 점수', \n",
    "'sleep_score_alignment' : '수면 시기 점수', \n",
    "'sleep_score_deep' : '깊은 수면 점수', \n",
    "'sleep_score_disturbances' : '수면 방해 점수', \n",
    "'sleep_score_efficiency' : '수면 효율 점수', \n",
    "'sleep_score_latency' : '수면 잠복 점수', \n",
    "'sleep_score_rem' : '램수면 점수', \n",
    "'sleep_score_total' : '수면 시간 기여 점수', \n",
    "'sleep_temperature_delta' : '피부 온도 편차', \n",
    "'sleep_temperature_deviation' : '피부 온도 편차',\n",
    "'sleep_temperature_trend_deviation' : '피부 온도 경향 편차',\n",
    "'timezone' : '시간 장소 정보',\n",
    "'sleep_total' : '수면 시간'}"
   ]
  },
  {
   "cell_type": "code",
   "execution_count": 76,
   "metadata": {},
   "outputs": [],
   "source": [
    "import os \n",
    "from glob import glob \n",
    "import pandas as pd \n",
    "import matplotlib.pyplot as plt\n",
    "import missingno as msno\n",
    "import seaborn as sns"
   ]
  },
  {
   "cell_type": "code",
   "execution_count": 50,
   "metadata": {},
   "outputs": [
    {
     "data": {
      "text/plain": [
       "(9705, 141)"
      ]
     },
     "execution_count": 50,
     "metadata": {},
     "output_type": "execute_result"
    }
   ],
   "source": [
    "raw = pd.read_csv('/Users/sehwan/Desktop/datasets/dementia/data/1.Training/raw/gait/train_activity.csv')\n",
    "label = pd.read_csv('/Users/sehwan/Desktop/datasets/dementia/data/1.Training/label/gait/training_label.csv')\n",
    "# df.head()\n",
    "# raw.iloc[:2, :].T\n",
    "len(raw), len(label)"
   ]
  },
  {
   "cell_type": "code",
   "execution_count": 84,
   "metadata": {},
   "outputs": [
    {
     "data": {
      "text/plain": [
       "'CN'"
      ]
     },
     "execution_count": 84,
     "metadata": {},
     "output_type": "execute_result"
    }
   ],
   "source": [
    "label[label['SAMPLE_EMAIL'] == 'nia+315@rowan.kr']['DIAG_NM'].values[0]"
   ]
  },
  {
   "cell_type": "code",
   "execution_count": 88,
   "metadata": {},
   "outputs": [
    {
     "name": "stdout",
     "output_type": "stream",
     "text": [
      "9705\n",
      "9705\n"
     ]
    }
   ],
   "source": [
    "print(len(raw))\n",
    "raw = pd.merge(raw, label, left_on='EMAIL', right_on='SAMPLE_EMAIL', how='right')\n",
    "print(len(raw))"
   ]
  },
  {
   "cell_type": "code",
   "execution_count": 80,
   "metadata": {},
   "outputs": [
    {
     "data": {
      "text/html": [
       "<div>\n",
       "<style scoped>\n",
       "    .dataframe tbody tr th:only-of-type {\n",
       "        vertical-align: middle;\n",
       "    }\n",
       "\n",
       "    .dataframe tbody tr th {\n",
       "        vertical-align: top;\n",
       "    }\n",
       "\n",
       "    .dataframe thead th {\n",
       "        text-align: right;\n",
       "    }\n",
       "</style>\n",
       "<table border=\"1\" class=\"dataframe\">\n",
       "  <thead>\n",
       "    <tr style=\"text-align: right;\">\n",
       "      <th></th>\n",
       "      <th>0</th>\n",
       "      <th>1</th>\n",
       "      <th>2</th>\n",
       "    </tr>\n",
       "  </thead>\n",
       "  <tbody>\n",
       "    <tr>\n",
       "      <th>SAMPLE_EMAIL</th>\n",
       "      <td>nia+315@rowan.kr</td>\n",
       "      <td>nia+014@rowan.kr</td>\n",
       "      <td>nia+220@rowan.kr</td>\n",
       "    </tr>\n",
       "    <tr>\n",
       "      <th>DIAG_NM</th>\n",
       "      <td>CN</td>\n",
       "      <td>MCI</td>\n",
       "      <td>CN</td>\n",
       "    </tr>\n",
       "  </tbody>\n",
       "</table>\n",
       "</div>"
      ],
      "text/plain": [
       "                             0                 1                 2\n",
       "SAMPLE_EMAIL  nia+315@rowan.kr  nia+014@rowan.kr  nia+220@rowan.kr\n",
       "DIAG_NM                     CN               MCI                CN"
      ]
     },
     "execution_count": 80,
     "metadata": {},
     "output_type": "execute_result"
    }
   ],
   "source": [
    "label.iloc[:3, :].T"
   ]
  },
  {
   "cell_type": "code",
   "execution_count": 9,
   "metadata": {},
   "outputs": [
    {
     "data": {
      "text/plain": [
       "EMAIL                                      0\n",
       "activity_average_met                       0\n",
       "activity_cal_active                        0\n",
       "activity_cal_total                         0\n",
       "activity_class_5min                        0\n",
       "activity_daily_movement                    0\n",
       "activity_day_end                           0\n",
       "activity_day_start                         0\n",
       "activity_high                              0\n",
       "activity_inactive                          0\n",
       "activity_inactivity_alerts                 0\n",
       "activity_low                               0\n",
       "activity_medium                            0\n",
       "activity_met_1min                          0\n",
       "activity_met_min_high                      0\n",
       "activity_met_min_inactive                  0\n",
       "activity_met_min_low                       0\n",
       "activity_met_min_medium                    0\n",
       "activity_non_wear                          0\n",
       "activity_rest                              0\n",
       "activity_score                             0\n",
       "activity_score_meet_daily_targets          0\n",
       "activity_score_move_every_hour             0\n",
       "activity_score_recovery_time               0\n",
       "activity_score_stay_active                 0\n",
       "activity_score_training_frequency          0\n",
       "activity_score_training_volume             0\n",
       "activity_steps                             0\n",
       "activity_total                             0\n",
       "CONVERT(activity_class_5min USING utf8)    0\n",
       "CONVERT(activity_met_1min USING utf8)      0\n",
       "dtype: int64"
      ]
     },
     "execution_count": 9,
     "metadata": {},
     "output_type": "execute_result"
    }
   ],
   "source": [
    "raw.isna().sum()"
   ]
  },
  {
   "cell_type": "code",
   "execution_count": 13,
   "metadata": {},
   "outputs": [
    {
     "data": {
      "text/plain": [
       "<Axes: >"
      ]
     },
     "execution_count": 13,
     "metadata": {},
     "output_type": "execute_result"
    },
    {
     "data": {
      "image/png": "[encoded data removed]",
      "text/plain": [
       "<Figure size 1000x600 with 3 Axes>"
      ]
     },
     "metadata": {},
     "output_type": "display_data"
    }
   ],
   "source": [
    "msno.bar(df=raw, color=(0.1, 0.6, 0.8), figsize=(10, 6))"
   ]
  },
  {
   "cell_type": "code",
   "execution_count": 92,
   "metadata": {},
   "outputs": [
    {
     "data": {
      "text/plain": [
       "<Axes: ylabel='DIAG_NM'>"
      ]
     },
     "execution_count": 92,
     "metadata": {},
     "output_type": "execute_result"
    },
    {
     "data": {
      "image/png": "[encoded data removed]",
      "text/plain": [
       "<Figure size 640x480 with 1 Axes>"
      ]
     },
     "metadata": {},
     "output_type": "display_data"
    }
   ],
   "source": [
    "# label.iloc[3, :].T\n",
    "(\n",
    "    raw['DIAG_NM']\n",
    "    .value_counts()\n",
    "    .plot(kind='barh')\n",
    ")\n",
    "# Dem -> 치매\n",
    "# MCI -> 경도 인지장애\n",
    "# CN -> 인지 정상 "
   ]
  },
  {
   "cell_type": "code",
   "execution_count": 31,
   "metadata": {},
   "outputs": [
    {
     "data": {
      "text/html": [
       "<div>\n",
       "<style scoped>\n",
       "    .dataframe tbody tr th:only-of-type {\n",
       "        vertical-align: middle;\n",
       "    }\n",
       "\n",
       "    .dataframe tbody tr th {\n",
       "        vertical-align: top;\n",
       "    }\n",
       "\n",
       "    .dataframe thead th {\n",
       "        text-align: right;\n",
       "    }\n",
       "</style>\n",
       "<table border=\"1\" class=\"dataframe\">\n",
       "  <thead>\n",
       "    <tr style=\"text-align: right;\">\n",
       "      <th></th>\n",
       "      <th>column_name</th>\n",
       "      <th>number_of_unique_values</th>\n",
       "    </tr>\n",
       "  </thead>\n",
       "  <tbody>\n",
       "    <tr>\n",
       "      <th>0</th>\n",
       "      <td>EMAIL</td>\n",
       "      <td>141</td>\n",
       "    </tr>\n",
       "    <tr>\n",
       "      <th>1</th>\n",
       "      <td>activity_average_met</td>\n",
       "      <td>64</td>\n",
       "    </tr>\n",
       "    <tr>\n",
       "      <th>2</th>\n",
       "      <td>activity_cal_active</td>\n",
       "      <td>1227</td>\n",
       "    </tr>\n",
       "    <tr>\n",
       "      <th>3</th>\n",
       "      <td>activity_cal_total</td>\n",
       "      <td>1717</td>\n",
       "    </tr>\n",
       "    <tr>\n",
       "      <th>4</th>\n",
       "      <td>activity_class_5min</td>\n",
       "      <td>1</td>\n",
       "    </tr>\n",
       "    <tr>\n",
       "      <th>5</th>\n",
       "      <td>activity_daily_movement</td>\n",
       "      <td>7476</td>\n",
       "    </tr>\n",
       "    <tr>\n",
       "      <th>6</th>\n",
       "      <td>activity_day_end</td>\n",
       "      <td>124</td>\n",
       "    </tr>\n",
       "    <tr>\n",
       "      <th>7</th>\n",
       "      <td>activity_day_start</td>\n",
       "      <td>124</td>\n",
       "    </tr>\n",
       "    <tr>\n",
       "      <th>8</th>\n",
       "      <td>activity_high</td>\n",
       "      <td>69</td>\n",
       "    </tr>\n",
       "    <tr>\n",
       "      <th>9</th>\n",
       "      <td>activity_inactive</td>\n",
       "      <td>792</td>\n",
       "    </tr>\n",
       "    <tr>\n",
       "      <th>10</th>\n",
       "      <td>activity_inactivity_alerts</td>\n",
       "      <td>7</td>\n",
       "    </tr>\n",
       "    <tr>\n",
       "      <th>11</th>\n",
       "      <td>activity_low</td>\n",
       "      <td>662</td>\n",
       "    </tr>\n",
       "    <tr>\n",
       "      <th>12</th>\n",
       "      <td>activity_medium</td>\n",
       "      <td>255</td>\n",
       "    </tr>\n",
       "    <tr>\n",
       "      <th>13</th>\n",
       "      <td>activity_met_1min</td>\n",
       "      <td>1</td>\n",
       "    </tr>\n",
       "    <tr>\n",
       "      <th>14</th>\n",
       "      <td>activity_met_min_high</td>\n",
       "      <td>247</td>\n",
       "    </tr>\n",
       "    <tr>\n",
       "      <th>15</th>\n",
       "      <td>activity_met_min_inactive</td>\n",
       "      <td>33</td>\n",
       "    </tr>\n",
       "    <tr>\n",
       "      <th>16</th>\n",
       "      <td>activity_met_min_low</td>\n",
       "      <td>570</td>\n",
       "    </tr>\n",
       "    <tr>\n",
       "      <th>17</th>\n",
       "      <td>activity_met_min_medium</td>\n",
       "      <td>695</td>\n",
       "    </tr>\n",
       "    <tr>\n",
       "      <th>18</th>\n",
       "      <td>activity_non_wear</td>\n",
       "      <td>297</td>\n",
       "    </tr>\n",
       "    <tr>\n",
       "      <th>19</th>\n",
       "      <td>activity_rest</td>\n",
       "      <td>810</td>\n",
       "    </tr>\n",
       "    <tr>\n",
       "      <th>20</th>\n",
       "      <td>activity_score</td>\n",
       "      <td>69</td>\n",
       "    </tr>\n",
       "    <tr>\n",
       "      <th>21</th>\n",
       "      <td>activity_score_meet_daily_targets</td>\n",
       "      <td>8</td>\n",
       "    </tr>\n",
       "    <tr>\n",
       "      <th>22</th>\n",
       "      <td>activity_score_move_every_hour</td>\n",
       "      <td>8</td>\n",
       "    </tr>\n",
       "    <tr>\n",
       "      <th>23</th>\n",
       "      <td>activity_score_recovery_time</td>\n",
       "      <td>16</td>\n",
       "    </tr>\n",
       "    <tr>\n",
       "      <th>24</th>\n",
       "      <td>activity_score_stay_active</td>\n",
       "      <td>90</td>\n",
       "    </tr>\n",
       "    <tr>\n",
       "      <th>25</th>\n",
       "      <td>activity_score_training_frequency</td>\n",
       "      <td>6</td>\n",
       "    </tr>\n",
       "    <tr>\n",
       "      <th>26</th>\n",
       "      <td>activity_score_training_volume</td>\n",
       "      <td>100</td>\n",
       "    </tr>\n",
       "    <tr>\n",
       "      <th>27</th>\n",
       "      <td>activity_steps</td>\n",
       "      <td>7643</td>\n",
       "    </tr>\n",
       "    <tr>\n",
       "      <th>28</th>\n",
       "      <td>activity_total</td>\n",
       "      <td>752</td>\n",
       "    </tr>\n",
       "    <tr>\n",
       "      <th>29</th>\n",
       "      <td>CONVERT(activity_class_5min USING utf8)</td>\n",
       "      <td>9705</td>\n",
       "    </tr>\n",
       "    <tr>\n",
       "      <th>30</th>\n",
       "      <td>CONVERT(activity_met_1min USING utf8)</td>\n",
       "      <td>9705</td>\n",
       "    </tr>\n",
       "  </tbody>\n",
       "</table>\n",
       "</div>"
      ],
      "text/plain": [
       "                                column_name  number_of_unique_values\n",
       "0                                     EMAIL                      141\n",
       "1                      activity_average_met                       64\n",
       "2                       activity_cal_active                     1227\n",
       "3                        activity_cal_total                     1717\n",
       "4                       activity_class_5min                        1\n",
       "5                   activity_daily_movement                     7476\n",
       "6                          activity_day_end                      124\n",
       "7                        activity_day_start                      124\n",
       "8                             activity_high                       69\n",
       "9                         activity_inactive                      792\n",
       "10               activity_inactivity_alerts                        7\n",
       "11                             activity_low                      662\n",
       "12                          activity_medium                      255\n",
       "13                        activity_met_1min                        1\n",
       "14                    activity_met_min_high                      247\n",
       "15                activity_met_min_inactive                       33\n",
       "16                     activity_met_min_low                      570\n",
       "17                  activity_met_min_medium                      695\n",
       "18                        activity_non_wear                      297\n",
       "19                            activity_rest                      810\n",
       "20                           activity_score                       69\n",
       "21        activity_score_meet_daily_targets                        8\n",
       "22           activity_score_move_every_hour                        8\n",
       "23             activity_score_recovery_time                       16\n",
       "24               activity_score_stay_active                       90\n",
       "25        activity_score_training_frequency                        6\n",
       "26           activity_score_training_volume                      100\n",
       "27                           activity_steps                     7643\n",
       "28                           activity_total                      752\n",
       "29  CONVERT(activity_class_5min USING utf8)                     9705\n",
       "30    CONVERT(activity_met_1min USING utf8)                     9705"
      ]
     },
     "execution_count": 31,
     "metadata": {},
     "output_type": "execute_result"
    }
   ],
   "source": [
    "(\n",
    "    raw\n",
    "    .nunique()\n",
    "    .to_frame()\n",
    "    .reset_index(drop=False)\n",
    "    .rename(columns={'index':'column_name', 0:'number_of_unique_values'})\n",
    ")"
   ]
  },
  {
   "cell_type": "code",
   "execution_count": 37,
   "metadata": {},
   "outputs": [
    {
     "data": {
      "text/plain": [
       "(0       2020-10-19T04:00:00+09:00\n",
       " 1       2020-10-20T04:00:00+09:00\n",
       " 2       2020-10-21T04:00:00+09:00\n",
       " 3       2020-10-22T04:00:00+09:00\n",
       " 4       2020-10-23T04:00:00+09:00\n",
       "                   ...            \n",
       " 9700    2020-12-24T04:00:00+09:00\n",
       " 9701    2020-12-26T04:00:00+09:00\n",
       " 9702    2020-12-27T04:00:00+09:00\n",
       " 9703    2020-12-28T04:00:00+09:00\n",
       " 9704    2020-12-29T04:00:00+09:00\n",
       " Name: activity_day_start, Length: 9705, dtype: object,\n",
       " 0       2020-10-20T03:59:59+09:00\n",
       " 1       2020-10-21T03:59:59+09:00\n",
       " 2       2020-10-22T03:59:59+09:00\n",
       " 3       2020-10-23T03:59:59+09:00\n",
       " 4       2020-10-24T03:59:59+09:00\n",
       "                   ...            \n",
       " 9700    2020-12-25T03:59:59+09:00\n",
       " 9701    2020-12-27T03:59:59+09:00\n",
       " 9702    2020-12-28T03:59:59+09:00\n",
       " 9703    2020-12-29T03:59:59+09:00\n",
       " 9704    2020-12-30T03:59:59+09:00\n",
       " Name: activity_day_end, Length: 9705, dtype: object)"
      ]
     },
     "execution_count": 37,
     "metadata": {},
     "output_type": "execute_result"
    }
   ],
   "source": [
    "# 활동시간\n",
    "raw['activity_day_start'], raw['activity_day_end']"
   ]
  },
  {
   "cell_type": "code",
   "execution_count": 54,
   "metadata": {},
   "outputs": [],
   "source": [
    "raw = (\n",
    "   raw\n",
    "   .assign(activity_day_start=lambda x : pd.to_datetime(x['activity_day_start']))\n",
    "   .assign(activity_day_end=lambda x : pd.to_datetime(x['activity_day_end']))\n",
    "   .assign(activity_day_time=lambda x : x['activity_day_end'] - x['activity_day_start'])\n",
    ")\n",
    "# raw.loc[:['activity_day_start', 'activity_day_end', 'activity_day_time']]"
   ]
  },
  {
   "cell_type": "code",
   "execution_count": 55,
   "metadata": {},
   "outputs": [
    {
     "data": {
      "text/html": [
       "<div>\n",
       "<style scoped>\n",
       "    .dataframe tbody tr th:only-of-type {\n",
       "        vertical-align: middle;\n",
       "    }\n",
       "\n",
       "    .dataframe tbody tr th {\n",
       "        vertical-align: top;\n",
       "    }\n",
       "\n",
       "    .dataframe thead th {\n",
       "        text-align: right;\n",
       "    }\n",
       "</style>\n",
       "<table border=\"1\" class=\"dataframe\">\n",
       "  <thead>\n",
       "    <tr style=\"text-align: right;\">\n",
       "      <th></th>\n",
       "      <th>activity_day_start</th>\n",
       "      <th>activity_day_end</th>\n",
       "      <th>activity_day_time</th>\n",
       "    </tr>\n",
       "  </thead>\n",
       "  <tbody>\n",
       "    <tr>\n",
       "      <th>0</th>\n",
       "      <td>2020-10-19 04:00:00+09:00</td>\n",
       "      <td>2020-10-20 03:59:59+09:00</td>\n",
       "      <td>0 days 23:59:59</td>\n",
       "    </tr>\n",
       "    <tr>\n",
       "      <th>1</th>\n",
       "      <td>2020-10-20 04:00:00+09:00</td>\n",
       "      <td>2020-10-21 03:59:59+09:00</td>\n",
       "      <td>0 days 23:59:59</td>\n",
       "    </tr>\n",
       "    <tr>\n",
       "      <th>2</th>\n",
       "      <td>2020-10-21 04:00:00+09:00</td>\n",
       "      <td>2020-10-22 03:59:59+09:00</td>\n",
       "      <td>0 days 23:59:59</td>\n",
       "    </tr>\n",
       "    <tr>\n",
       "      <th>3</th>\n",
       "      <td>2020-10-22 04:00:00+09:00</td>\n",
       "      <td>2020-10-23 03:59:59+09:00</td>\n",
       "      <td>0 days 23:59:59</td>\n",
       "    </tr>\n",
       "    <tr>\n",
       "      <th>4</th>\n",
       "      <td>2020-10-23 04:00:00+09:00</td>\n",
       "      <td>2020-10-24 03:59:59+09:00</td>\n",
       "      <td>0 days 23:59:59</td>\n",
       "    </tr>\n",
       "    <tr>\n",
       "      <th>...</th>\n",
       "      <td>...</td>\n",
       "      <td>...</td>\n",
       "      <td>...</td>\n",
       "    </tr>\n",
       "    <tr>\n",
       "      <th>9700</th>\n",
       "      <td>2020-12-24 04:00:00+09:00</td>\n",
       "      <td>2020-12-25 03:59:59+09:00</td>\n",
       "      <td>0 days 23:59:59</td>\n",
       "    </tr>\n",
       "    <tr>\n",
       "      <th>9701</th>\n",
       "      <td>2020-12-26 04:00:00+09:00</td>\n",
       "      <td>2020-12-27 03:59:59+09:00</td>\n",
       "      <td>0 days 23:59:59</td>\n",
       "    </tr>\n",
       "    <tr>\n",
       "      <th>9702</th>\n",
       "      <td>2020-12-27 04:00:00+09:00</td>\n",
       "      <td>2020-12-28 03:59:59+09:00</td>\n",
       "      <td>0 days 23:59:59</td>\n",
       "    </tr>\n",
       "    <tr>\n",
       "      <th>9703</th>\n",
       "      <td>2020-12-28 04:00:00+09:00</td>\n",
       "      <td>2020-12-29 03:59:59+09:00</td>\n",
       "      <td>0 days 23:59:59</td>\n",
       "    </tr>\n",
       "    <tr>\n",
       "      <th>9704</th>\n",
       "      <td>2020-12-29 04:00:00+09:00</td>\n",
       "      <td>2020-12-30 03:59:59+09:00</td>\n",
       "      <td>0 days 23:59:59</td>\n",
       "    </tr>\n",
       "  </tbody>\n",
       "</table>\n",
       "<p>9705 rows × 3 columns</p>\n",
       "</div>"
      ],
      "text/plain": [
       "            activity_day_start          activity_day_end activity_day_time\n",
       "0    2020-10-19 04:00:00+09:00 2020-10-20 03:59:59+09:00   0 days 23:59:59\n",
       "1    2020-10-20 04:00:00+09:00 2020-10-21 03:59:59+09:00   0 days 23:59:59\n",
       "2    2020-10-21 04:00:00+09:00 2020-10-22 03:59:59+09:00   0 days 23:59:59\n",
       "3    2020-10-22 04:00:00+09:00 2020-10-23 03:59:59+09:00   0 days 23:59:59\n",
       "4    2020-10-23 04:00:00+09:00 2020-10-24 03:59:59+09:00   0 days 23:59:59\n",
       "...                        ...                       ...               ...\n",
       "9700 2020-12-24 04:00:00+09:00 2020-12-25 03:59:59+09:00   0 days 23:59:59\n",
       "9701 2020-12-26 04:00:00+09:00 2020-12-27 03:59:59+09:00   0 days 23:59:59\n",
       "9702 2020-12-27 04:00:00+09:00 2020-12-28 03:59:59+09:00   0 days 23:59:59\n",
       "9703 2020-12-28 04:00:00+09:00 2020-12-29 03:59:59+09:00   0 days 23:59:59\n",
       "9704 2020-12-29 04:00:00+09:00 2020-12-30 03:59:59+09:00   0 days 23:59:59\n",
       "\n",
       "[9705 rows x 3 columns]"
      ]
     },
     "execution_count": 55,
     "metadata": {},
     "output_type": "execute_result"
    }
   ],
   "source": [
    "raw.loc[:, ['activity_day_start', 'activity_day_end', 'activity_day_time']]"
   ]
  },
  {
   "cell_type": "code",
   "execution_count": 70,
   "metadata": {},
   "outputs": [
    {
     "data": {
      "application/vnd.plotly.v1+json": {
       "config": {
        "plotlyServerURL": "https://plot.ly"
       },
       "data": [
        {
         "alignmentgroup": "True",
         "hovertemplate": "activity_day_time=%{x}<br>count=%{y}<extra></extra>",
         "legendgroup": "",
         "marker": {
          "color": "#636efa",
          "pattern": {
           "shape": ""
          }
         },
         "name": "",
         "offsetgroup": "",
         "orientation": "v",
         "showlegend": false,
         "textposition": "auto",
         "type": "bar",
         "x": [
          0
         ],
         "xaxis": "x",
         "y": [
          9705
         ],
         "yaxis": "y"
        }
       ],
       "layout": {
        "barmode": "relative",
        "legend": {
         "tracegroupgap": 0
        },
        "margin": {
         "t": 60
        },
        "template": {
         "data": {
          "bar": [
           {
            "error_x": {
             "color": "#2a3f5f"
            },
            "error_y": {
             "color": "#2a3f5f"
            },
            "marker": {
             "line": {
              "color": "#E5ECF6",
              "width": 0.5
             },
             "pattern": {
              "fillmode": "overlay",
              "size": 10,
              "solidity": 0.2
             }
            },
            "type": "bar"
           }
          ],
          "barpolar": [
           {
            "marker": {
             "line": {
              "color": "#E5ECF6",
              "width": 0.5
             },
             "pattern": {
              "fillmode": "overlay",
              "size": 10,
              "solidity": 0.2
             }
            },
            "type": "barpolar"
           }
          ],
          "carpet": [
           {
            "aaxis": {
             "endlinecolor": "#2a3f5f",
             "gridcolor": "white",
             "linecolor": "white",
             "minorgridcolor": "white",
             "startlinecolor": "#2a3f5f"
            },
            "baxis": {
             "endlinecolor": "#2a3f5f",
             "gridcolor": "white",
             "linecolor": "white",
             "minorgridcolor": "white",
             "startlinecolor": "#2a3f5f"
            },
            "type": "carpet"
           }
          ],
          "choropleth": [
           {
            "colorbar": {
             "outlinewidth": 0,
             "ticks": ""
            },
            "type": "choropleth"
           }
          ],
          "contour": [
           {
            "colorbar": {
             "outlinewidth": 0,
             "ticks": ""
            },
            "colorscale": [
             [
              0,
              "#0d0887"
             ],
             [
              0.1111111111111111,
              "#46039f"
             ],
             [
              0.2222222222222222,
              "#7201a8"
             ],
             [
              0.3333333333333333,
              "#9c179e"
             ],
             [
              0.4444444444444444,
              "#bd3786"
             ],
             [
              0.5555555555555556,
              "#d8576b"
             ],
             [
              0.6666666666666666,
              "#ed7953"
             ],
             [
              0.7777777777777778,
              "#fb9f3a"
             ],
             [
              0.8888888888888888,
              "#fdca26"
             ],
             [
              1,
              "#f0f921"
             ]
            ],
            "type": "contour"
           }
          ],
          "contourcarpet": [
           {
            "colorbar": {
             "outlinewidth": 0,
             "ticks": ""
            },
            "type": "contourcarpet"
           }
          ],
          "heatmap": [
           {
            "colorbar": {
             "outlinewidth": 0,
             "ticks": ""
            },
            "colorscale": [
             [
              0,
              "#0d0887"
             ],
             [
              0.1111111111111111,
              "#46039f"
             ],
             [
              0.2222222222222222,
              "#7201a8"
             ],
             [
              0.3333333333333333,
              "#9c179e"
             ],
             [
              0.4444444444444444,
              "#bd3786"
             ],
             [
              0.5555555555555556,
              "#d8576b"
             ],
             [
              0.6666666666666666,
              "#ed7953"
             ],
             [
              0.7777777777777778,
              "#fb9f3a"
             ],
             [
              0.8888888888888888,
              "#fdca26"
             ],
             [
              1,
              "#f0f921"
             ]
            ],
            "type": "heatmap"
           }
          ],
          "heatmapgl": [
           {
            "colorbar": {
             "outlinewidth": 0,
             "ticks": ""
            },
            "colorscale": [
             [
              0,
              "#0d0887"
             ],
             [
              0.1111111111111111,
              "#46039f"
             ],
             [
              0.2222222222222222,
              "#7201a8"
             ],
             [
              0.3333333333333333,
              "#9c179e"
             ],
             [
              0.4444444444444444,
              "#bd3786"
             ],
             [
              0.5555555555555556,
              "#d8576b"
             ],
             [
              0.6666666666666666,
              "#ed7953"
             ],
             [
              0.7777777777777778,
              "#fb9f3a"
             ],
             [
              0.8888888888888888,
              "#fdca26"
             ],
             [
              1,
              "#f0f921"
             ]
            ],
            "type": "heatmapgl"
           }
          ],
          "histogram": [
           {
            "marker": {
             "pattern": {
              "fillmode": "overlay",
              "size": 10,
              "solidity": 0.2
             }
            },
            "type": "histogram"
           }
          ],
          "histogram2d": [
           {
            "colorbar": {
             "outlinewidth": 0,
             "ticks": ""
            },
            "colorscale": [
             [
              0,
              "#0d0887"
             ],
             [
              0.1111111111111111,
              "#46039f"
             ],
             [
              0.2222222222222222,
              "#7201a8"
             ],
             [
              0.3333333333333333,
              "#9c179e"
             ],
             [
              0.4444444444444444,
              "#bd3786"
             ],
             [
              0.5555555555555556,
              "#d8576b"
             ],
             [
              0.6666666666666666,
              "#ed7953"
             ],
             [
              0.7777777777777778,
              "#fb9f3a"
             ],
             [
              0.8888888888888888,
              "#fdca26"
             ],
             [
              1,
              "#f0f921"
             ]
            ],
            "type": "histogram2d"
           }
          ],
          "histogram2dcontour": [
           {
            "colorbar": {
             "outlinewidth": 0,
             "ticks": ""
            },
            "colorscale": [
             [
              0,
              "#0d0887"
             ],
             [
              0.1111111111111111,
              "#46039f"
             ],
             [
              0.2222222222222222,
              "#7201a8"
             ],
             [
              0.3333333333333333,
              "#9c179e"
             ],
             [
              0.4444444444444444,
              "#bd3786"
             ],
             [
              0.5555555555555556,
              "#d8576b"
             ],
             [
              0.6666666666666666,
              "#ed7953"
             ],
             [
              0.7777777777777778,
              "#fb9f3a"
             ],
             [
              0.8888888888888888,
              "#fdca26"
             ],
             [
              1,
              "#f0f921"
             ]
            ],
            "type": "histogram2dcontour"
           }
          ],
          "mesh3d": [
           {
            "colorbar": {
             "outlinewidth": 0,
             "ticks": ""
            },
            "type": "mesh3d"
           }
          ],
          "parcoords": [
           {
            "line": {
             "colorbar": {
              "outlinewidth": 0,
              "ticks": ""
             }
            },
            "type": "parcoords"
           }
          ],
          "pie": [
           {
            "automargin": true,
            "type": "pie"
           }
          ],
          "scatter": [
           {
            "fillpattern": {
             "fillmode": "overlay",
             "size": 10,
             "solidity": 0.2
            },
            "type": "scatter"
           }
          ],
          "scatter3d": [
           {
            "line": {
             "colorbar": {
              "outlinewidth": 0,
              "ticks": ""
             }
            },
            "marker": {
             "colorbar": {
              "outlinewidth": 0,
              "ticks": ""
             }
            },
            "type": "scatter3d"
           }
          ],
          "scattercarpet": [
           {
            "marker": {
             "colorbar": {
              "outlinewidth": 0,
              "ticks": ""
             }
            },
            "type": "scattercarpet"
           }
          ],
          "scattergeo": [
           {
            "marker": {
             "colorbar": {
              "outlinewidth": 0,
              "ticks": ""
             }
            },
            "type": "scattergeo"
           }
          ],
          "scattergl": [
           {
            "marker": {
             "colorbar": {
              "outlinewidth": 0,
              "ticks": ""
             }
            },
            "type": "scattergl"
           }
          ],
          "scattermapbox": [
           {
            "marker": {
             "colorbar": {
              "outlinewidth": 0,
              "ticks": ""
             }
            },
            "type": "scattermapbox"
           }
          ],
          "scatterpolar": [
           {
            "marker": {
             "colorbar": {
              "outlinewidth": 0,
              "ticks": ""
             }
            },
            "type": "scatterpolar"
           }
          ],
          "scatterpolargl": [
           {
            "marker": {
             "colorbar": {
              "outlinewidth": 0,
              "ticks": ""
             }
            },
            "type": "scatterpolargl"
           }
          ],
          "scatterternary": [
           {
            "marker": {
             "colorbar": {
              "outlinewidth": 0,
              "ticks": ""
             }
            },
            "type": "scatterternary"
           }
          ],
          "surface": [
           {
            "colorbar": {
             "outlinewidth": 0,
             "ticks": ""
            },
            "colorscale": [
             [
              0,
              "#0d0887"
             ],
             [
              0.1111111111111111,
              "#46039f"
             ],
             [
              0.2222222222222222,
              "#7201a8"
             ],
             [
              0.3333333333333333,
              "#9c179e"
             ],
             [
              0.4444444444444444,
              "#bd3786"
             ],
             [
              0.5555555555555556,
              "#d8576b"
             ],
             [
              0.6666666666666666,
              "#ed7953"
             ],
             [
              0.7777777777777778,
              "#fb9f3a"
             ],
             [
              0.8888888888888888,
              "#fdca26"
             ],
             [
              1,
              "#f0f921"
             ]
            ],
            "type": "surface"
           }
          ],
          "table": [
           {
            "cells": {
             "fill": {
              "color": "#EBF0F8"
             },
             "line": {
              "color": "white"
             }
            },
            "header": {
             "fill": {
              "color": "#C8D4E3"
             },
             "line": {
              "color": "white"
             }
            },
            "type": "table"
           }
          ]
         },
         "layout": {
          "annotationdefaults": {
           "arrowcolor": "#2a3f5f",
           "arrowhead": 0,
           "arrowwidth": 1
          },
          "autotypenumbers": "strict",
          "coloraxis": {
           "colorbar": {
            "outlinewidth": 0,
            "ticks": ""
           }
          },
          "colorscale": {
           "diverging": [
            [
             0,
             "#8e0152"
            ],
            [
             0.1,
             "#c51b7d"
            ],
            [
             0.2,
             "#de77ae"
            ],
            [
             0.3,
             "#f1b6da"
            ],
            [
             0.4,
             "#fde0ef"
            ],
            [
             0.5,
             "#f7f7f7"
            ],
            [
             0.6,
             "#e6f5d0"
            ],
            [
             0.7,
             "#b8e186"
            ],
            [
             0.8,
             "#7fbc41"
            ],
            [
             0.9,
             "#4d9221"
            ],
            [
             1,
             "#276419"
            ]
           ],
           "sequential": [
            [
             0,
             "#0d0887"
            ],
            [
             0.1111111111111111,
             "#46039f"
            ],
            [
             0.2222222222222222,
             "#7201a8"
            ],
            [
             0.3333333333333333,
             "#9c179e"
            ],
            [
             0.4444444444444444,
             "#bd3786"
            ],
            [
             0.5555555555555556,
             "#d8576b"
            ],
            [
             0.6666666666666666,
             "#ed7953"
            ],
            [
             0.7777777777777778,
             "#fb9f3a"
            ],
            [
             0.8888888888888888,
             "#fdca26"
            ],
            [
             1,
             "#f0f921"
            ]
           ],
           "sequentialminus": [
            [
             0,
             "#0d0887"
            ],
            [
             0.1111111111111111,
             "#46039f"
            ],
            [
             0.2222222222222222,
             "#7201a8"
            ],
            [
             0.3333333333333333,
             "#9c179e"
            ],
            [
             0.4444444444444444,
             "#bd3786"
            ],
            [
             0.5555555555555556,
             "#d8576b"
            ],
            [
             0.6666666666666666,
             "#ed7953"
            ],
            [
             0.7777777777777778,
             "#fb9f3a"
            ],
            [
             0.8888888888888888,
             "#fdca26"
            ],
            [
             1,
             "#f0f921"
            ]
           ]
          },
          "colorway": [
           "#636efa",
           "#EF553B",
           "#00cc96",
           "#ab63fa",
           "#FFA15A",
           "#19d3f3",
           "#FF6692",
           "#B6E880",
           "#FF97FF",
           "#FECB52"
          ],
          "font": {
           "color": "#2a3f5f"
          },
          "geo": {
           "bgcolor": "white",
           "lakecolor": "white",
           "landcolor": "#E5ECF6",
           "showlakes": true,
           "showland": true,
           "subunitcolor": "white"
          },
          "hoverlabel": {
           "align": "left"
          },
          "hovermode": "closest",
          "mapbox": {
           "style": "light"
          },
          "paper_bgcolor": "white",
          "plot_bgcolor": "#E5ECF6",
          "polar": {
           "angularaxis": {
            "gridcolor": "white",
            "linecolor": "white",
            "ticks": ""
           },
           "bgcolor": "#E5ECF6",
           "radialaxis": {
            "gridcolor": "white",
            "linecolor": "white",
            "ticks": ""
           }
          },
          "scene": {
           "xaxis": {
            "backgroundcolor": "#E5ECF6",
            "gridcolor": "white",
            "gridwidth": 2,
            "linecolor": "white",
            "showbackground": true,
            "ticks": "",
            "zerolinecolor": "white"
           },
           "yaxis": {
            "backgroundcolor": "#E5ECF6",
            "gridcolor": "white",
            "gridwidth": 2,
            "linecolor": "white",
            "showbackground": true,
            "ticks": "",
            "zerolinecolor": "white"
           },
           "zaxis": {
            "backgroundcolor": "#E5ECF6",
            "gridcolor": "white",
            "gridwidth": 2,
            "linecolor": "white",
            "showbackground": true,
            "ticks": "",
            "zerolinecolor": "white"
           }
          },
          "shapedefaults": {
           "line": {
            "color": "#2a3f5f"
           }
          },
          "ternary": {
           "aaxis": {
            "gridcolor": "white",
            "linecolor": "white",
            "ticks": ""
           },
           "baxis": {
            "gridcolor": "white",
            "linecolor": "white",
            "ticks": ""
           },
           "bgcolor": "#E5ECF6",
           "caxis": {
            "gridcolor": "white",
            "linecolor": "white",
            "ticks": ""
           }
          },
          "title": {
           "x": 0.05
          },
          "xaxis": {
           "automargin": true,
           "gridcolor": "white",
           "linecolor": "white",
           "ticks": "",
           "title": {
            "standoff": 15
           },
           "zerolinecolor": "white",
           "zerolinewidth": 2
          },
          "yaxis": {
           "automargin": true,
           "gridcolor": "white",
           "linecolor": "white",
           "ticks": "",
           "title": {
            "standoff": 15
           },
           "zerolinecolor": "white",
           "zerolinewidth": 2
          }
         }
        },
        "title": {
         "font": {
          "size": 25
         },
         "text": "하루 행동시간"
        },
        "xaxis": {
         "anchor": "y",
         "domain": [
          0,
          1
         ],
         "title": {
          "font": {
           "size": 25
          },
          "text": "activity_day_time"
         }
        },
        "yaxis": {
         "anchor": "x",
         "domain": [
          0,
          1
         ],
         "title": {
          "font": {
           "size": 25
          },
          "text": "count"
         }
        }
       }
      }
     },
     "metadata": {},
     "output_type": "display_data"
    },
    {
     "data": {
      "text/html": [
       "<div>\n",
       "<style scoped>\n",
       "    .dataframe tbody tr th:only-of-type {\n",
       "        vertical-align: middle;\n",
       "    }\n",
       "\n",
       "    .dataframe tbody tr th {\n",
       "        vertical-align: top;\n",
       "    }\n",
       "\n",
       "    .dataframe thead th {\n",
       "        text-align: right;\n",
       "    }\n",
       "</style>\n",
       "<table border=\"1\" class=\"dataframe\">\n",
       "  <thead>\n",
       "    <tr style=\"text-align: right;\">\n",
       "      <th></th>\n",
       "      <th>activity_day_time</th>\n",
       "      <th>count</th>\n",
       "    </tr>\n",
       "  </thead>\n",
       "  <tbody>\n",
       "    <tr>\n",
       "      <th>0</th>\n",
       "      <td>0</td>\n",
       "      <td>9705</td>\n",
       "    </tr>\n",
       "  </tbody>\n",
       "</table>\n",
       "</div>"
      ],
      "text/plain": [
       "   activity_day_time  count\n",
       "0                  0   9705"
      ]
     },
     "metadata": {},
     "output_type": "display_data"
    }
   ],
   "source": [
    "import plotly.express as px\n",
    "\n",
    "raw_plot = (\n",
    "    raw\n",
    "    ['activity_day_time'].dt.days.astype(int)\n",
    "    .value_counts()\n",
    "    .to_frame() \n",
    "    .reset_index(drop=False)\n",
    "    # .rename(columns={'activity_day_time' : 'activity_day_time', 'activity_day_time' : 'Count'})\n",
    ")\n",
    "# raw_plot\n",
    "fig = px.bar(\n",
    "    raw_plot, \n",
    "    x = 'activity_day_time',\n",
    "    y = 'count'\n",
    ")\n",
    "\n",
    "fig.update_layout(\n",
    "    title=dict(\n",
    "        text=f'하루 행동시간',\n",
    "        font=dict(size=25)\n",
    "    ),\n",
    "    xaxis_title=dict(\n",
    "        text=f'activity_day_time',\n",
    "        font=dict(size=25)\n",
    "    ),\n",
    "    yaxis_title=dict(\n",
    "        text=f'count',\n",
    "        font=dict(size=25)\n",
    "    )\n",
    ")\n",
    "fig.show() \n",
    "display(raw_plot)"
   ]
  },
  {
   "cell_type": "code",
   "execution_count": 90,
   "metadata": {},
   "outputs": [
    {
     "data": {
      "text/plain": [
       "<Axes: xlabel='activity_cal_active', ylabel='Count'>"
      ]
     },
     "execution_count": 90,
     "metadata": {},
     "output_type": "execute_result"
    },
    {
     "data": {
      "image/png": "[encoded data removed]",
      "text/plain": [
       "<Figure size 640x480 with 1 Axes>"
      ]
     },
     "metadata": {},
     "output_type": "display_data"
    }
   ],
   "source": [
    "sns.histplot(raw['activity_cal_active'])"
   ]
  },
  {
   "cell_type": "code",
   "execution_count": null,
   "metadata": {},
   "outputs": [],
   "source": []
  },
  {
   "cell_type": "code",
   "execution_count": null,
   "metadata": {},
   "outputs": [],
   "source": []
  },
  {
   "cell_type": "code",
   "execution_count": null,
   "metadata": {},
   "outputs": [],
   "source": []
  },
  {
   "cell_type": "code",
   "execution_count": null,
   "metadata": {},
   "outputs": [],
   "source": []
  }
 ],
 "metadata": {
  "kernelspec": {
   "display_name": "base",
   "language": "python",
   "name": "python3"
  },
  "language_info": {
   "codemirror_mode": {
    "name": "ipython",
    "version": 3
   },
   "file_extension": ".py",
   "mimetype": "text/x-python",
   "name": "python",
   "nbconvert_exporter": "python",
   "pygments_lexer": "ipython3",
   "version": "3.9.12"
  },
  "orig_nbformat": 4
 },
 "nbformat": 4,
 "nbformat_minor": 2
}
